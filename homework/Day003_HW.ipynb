{
 "cells": [
  {
   "cell_type": "markdown",
   "metadata": {},
   "source": [
    "# Python 下載XML檔案與解析\n",
    "\n",
    "\n",
    "* 了解 xml 檔案格式與內容\n",
    "* 能夠利用套件存取 xml 格式的檔案\n"
   ]
  },
  {
   "cell_type": "markdown",
   "metadata": {},
   "source": [
    "## 作業目標\n",
    "\n",
    "* 比較一下範例檔案中的「File I/O」與「xmltodict」讀出來的內容有什麼差異\n",
    "\n",
    "* 根據範例檔案的結果：\n",
    "    1. 請問高雄市有多少地區有溫度資料？\n",
    "    2. 請取出每一個地區所記錄的第一個時間點跟溫度\n",
    "    3. 請取出第一個地區所記錄的每一個時間點跟溫度"
   ]
  },
  {
   "cell_type": "markdown",
   "metadata": {},
   "source": [
    "### 比較一下範例檔案中的「File I/O」與「xmltodict」讀出來的內容有什麼差異\n"
   ]
  },
  {
   "cell_type": "code",
   "execution_count": 1,
   "metadata": {},
   "outputs": [
    {
     "data": {
      "text/plain": [
       "'\\nFile I/O 呈現原始資料格式\\nxmltodict 將資料轉為 Dictionary, 採用 key-value 儲存方式。\\n'"
      ]
     },
     "execution_count": 1,
     "metadata": {},
     "output_type": "execute_result"
    }
   ],
   "source": [
    "'''\n",
    "File I/O 呈現原始資料格式\n",
    "xmltodict 將資料轉為 Dictionary, 採用 key-value 儲存方式。\n",
    "'''"
   ]
  },
  {
   "cell_type": "markdown",
   "metadata": {},
   "source": [
    "### 根據範例檔案的結果：\n",
    "\n",
    "1. 請問高雄市有多少地區有溫度資料？\n",
    "2. 請取出每一個地區所記錄的第一個時間點跟溫度\n",
    "3. 請取出第一個地區所記錄的每一個時間點跟溫度"
   ]
  },
  {
   "cell_type": "code",
   "execution_count": 2,
   "metadata": {},
   "outputs": [],
   "source": [
    "from urllib.request import urlretrieve\n",
    "from zipfile import ZipFile\n",
    "import os\n",
    "import xmltodict\n",
    "\n",
    "# pycrawler.cupoy.com/file-download/part03/example.zip\n",
    "try:\n",
    "    os.makedirs( './Data', exist_ok=True )\n",
    "    urlretrieve (\"http://pycrawler.cupoy.com/file-download/part03/example.zip\", \"./Data/Day003_example.zip\")\n",
    "    zf = ZipFile('./Data/Day003_example.zip', 'r')\n",
    "    zf.extractall('./Data')\n",
    "    zf.close()\n",
    "except Exception as e:\n",
    "    print('發生錯誤,', e)\n",
    "\n",
    "# File I/O\n",
    "fh = open(\"./Data/64_72hr_CH.xml\", encoding=\"utf-8-sig\")\n",
    "f = fh.read()\n",
    "fh.close()\n",
    "#print(f)\n",
    "\n",
    "# 解析 XML 檔案內容\n",
    "dic = xmltodict.parse(f)\n",
    "#print (dic)\n",
    "\n"
   ]
  },
  {
   "cell_type": "code",
   "execution_count": 3,
   "metadata": {},
   "outputs": [
    {
     "name": "stdout",
     "output_type": "stream",
     "text": [
      "高雄市有 38 個地區有溫度資料。\n",
      "鹽埕區\n",
      "鼓山區\n",
      "左營區\n",
      "楠梓區\n",
      "三民區\n",
      "新興區\n",
      "前金區\n",
      "苓雅區\n",
      "前鎮區\n",
      "旗津區\n",
      "小港區\n",
      "鳳山區\n",
      "林園區\n",
      "大寮區\n",
      "大樹區\n",
      "大社區\n",
      "仁武區\n",
      "鳥松區\n",
      "岡山區\n",
      "橋頭區\n",
      "燕巢區\n",
      "田寮區\n",
      "阿蓮區\n",
      "路竹區\n",
      "湖內區\n",
      "茄萣區\n",
      "永安區\n",
      "彌陀區\n",
      "梓官區\n",
      "旗山區\n",
      "美濃區\n",
      "六龜區\n",
      "甲仙區\n",
      "杉林區\n",
      "內門區\n",
      "茂林區\n",
      "桃源區\n",
      "那瑪夏區\n"
     ]
    }
   ],
   "source": [
    "# 1. 請問高雄市有多少地區有溫度資料？\n",
    "# ['cwbopendata']['dataset']['locations']['location']['locationName']\n",
    "# 至 ['location'] 開始為多筆資料, 須逐一取值\n",
    "locations = dic['cwbopendata']['dataset']['locations']['location']\n",
    "print (\"高雄市有\", len(locations), \"個地區有溫度資料。\");\n",
    "for location in locations:\n",
    "    print (location['locationName'])\n"
   ]
  },
  {
   "cell_type": "code",
   "execution_count": 4,
   "metadata": {},
   "outputs": [
    {
     "name": "stdout",
     "output_type": "stream",
     "text": [
      "鹽埕區 溫度 2019-06-28T12:00:00+08:00 33 攝氏度\n",
      "鼓山區 溫度 2019-06-28T12:00:00+08:00 33 攝氏度\n",
      "左營區 溫度 2019-06-28T12:00:00+08:00 33 攝氏度\n",
      "楠梓區 溫度 2019-06-28T12:00:00+08:00 34 攝氏度\n",
      "三民區 溫度 2019-06-28T12:00:00+08:00 32 攝氏度\n",
      "新興區 溫度 2019-06-28T12:00:00+08:00 33 攝氏度\n",
      "前金區 溫度 2019-06-28T12:00:00+08:00 33 攝氏度\n",
      "苓雅區 溫度 2019-06-28T12:00:00+08:00 33 攝氏度\n",
      "前鎮區 溫度 2019-06-28T12:00:00+08:00 33 攝氏度\n",
      "旗津區 溫度 2019-06-28T12:00:00+08:00 32 攝氏度\n",
      "小港區 溫度 2019-06-28T12:00:00+08:00 33 攝氏度\n",
      "鳳山區 溫度 2019-06-28T12:00:00+08:00 34 攝氏度\n",
      "林園區 溫度 2019-06-28T12:00:00+08:00 33 攝氏度\n",
      "大寮區 溫度 2019-06-28T12:00:00+08:00 34 攝氏度\n",
      "大樹區 溫度 2019-06-28T12:00:00+08:00 34 攝氏度\n",
      "大社區 溫度 2019-06-28T12:00:00+08:00 34 攝氏度\n",
      "仁武區 溫度 2019-06-28T12:00:00+08:00 33 攝氏度\n",
      "鳥松區 溫度 2019-06-28T12:00:00+08:00 34 攝氏度\n",
      "岡山區 溫度 2019-06-28T12:00:00+08:00 34 攝氏度\n",
      "橋頭區 溫度 2019-06-28T12:00:00+08:00 35 攝氏度\n",
      "燕巢區 溫度 2019-06-28T12:00:00+08:00 34 攝氏度\n",
      "田寮區 溫度 2019-06-28T12:00:00+08:00 34 攝氏度\n",
      "阿蓮區 溫度 2019-06-28T12:00:00+08:00 34 攝氏度\n",
      "路竹區 溫度 2019-06-28T12:00:00+08:00 33 攝氏度\n",
      "湖內區 溫度 2019-06-28T12:00:00+08:00 33 攝氏度\n",
      "茄萣區 溫度 2019-06-28T12:00:00+08:00 33 攝氏度\n",
      "永安區 溫度 2019-06-28T12:00:00+08:00 32 攝氏度\n",
      "彌陀區 溫度 2019-06-28T12:00:00+08:00 32 攝氏度\n",
      "梓官區 溫度 2019-06-28T12:00:00+08:00 32 攝氏度\n",
      "旗山區 溫度 2019-06-28T12:00:00+08:00 34 攝氏度\n",
      "美濃區 溫度 2019-06-28T12:00:00+08:00 34 攝氏度\n",
      "六龜區 溫度 2019-06-28T12:00:00+08:00 34 攝氏度\n",
      "甲仙區 溫度 2019-06-28T12:00:00+08:00 33 攝氏度\n",
      "杉林區 溫度 2019-06-28T12:00:00+08:00 36 攝氏度\n",
      "內門區 溫度 2019-06-28T12:00:00+08:00 34 攝氏度\n",
      "茂林區 溫度 2019-06-28T12:00:00+08:00 34 攝氏度\n",
      "桃源區 溫度 2019-06-28T12:00:00+08:00 31 攝氏度\n",
      "那瑪夏區 溫度 2019-06-28T12:00:00+08:00 29 攝氏度\n"
     ]
    }
   ],
   "source": [
    "# 2. 請取出每一個地區所記錄的第一個時間點跟溫度\n",
    "for location in locations:\n",
    "    print (location['locationName'], location['weatherElement'][0]['description'], location['weatherElement'][0]['time'][0]['dataTime'], location['weatherElement'][0]['time'][0]['elementValue']['value'], location['weatherElement'][0]['time'][0]['elementValue']['measures'])\n"
   ]
  },
  {
   "cell_type": "code",
   "execution_count": 5,
   "metadata": {},
   "outputs": [
    {
     "name": "stdout",
     "output_type": "stream",
     "text": [
      "鹽埕區 溫度 2019-06-28T12:00:00+08:00 33 攝氏度\n",
      "鹽埕區 溫度 2019-06-28T15:00:00+08:00 33 攝氏度\n",
      "鹽埕區 溫度 2019-06-28T18:00:00+08:00 32 攝氏度\n",
      "鹽埕區 溫度 2019-06-28T21:00:00+08:00 30 攝氏度\n",
      "鹽埕區 溫度 2019-06-29T00:00:00+08:00 30 攝氏度\n",
      "鹽埕區 溫度 2019-06-29T03:00:00+08:00 29 攝氏度\n",
      "鹽埕區 溫度 2019-06-29T06:00:00+08:00 28 攝氏度\n",
      "鹽埕區 溫度 2019-06-29T09:00:00+08:00 31 攝氏度\n",
      "鹽埕區 溫度 2019-06-29T12:00:00+08:00 32 攝氏度\n",
      "鹽埕區 溫度 2019-06-29T15:00:00+08:00 32 攝氏度\n",
      "鹽埕區 溫度 2019-06-29T18:00:00+08:00 31 攝氏度\n",
      "鹽埕區 溫度 2019-06-29T21:00:00+08:00 30 攝氏度\n",
      "鹽埕區 溫度 2019-06-30T00:00:00+08:00 29 攝氏度\n",
      "鹽埕區 溫度 2019-06-30T03:00:00+08:00 28 攝氏度\n",
      "鹽埕區 溫度 2019-06-30T06:00:00+08:00 28 攝氏度\n",
      "鹽埕區 溫度 2019-06-30T09:00:00+08:00 31 攝氏度\n",
      "鹽埕區 溫度 2019-06-30T12:00:00+08:00 32 攝氏度\n",
      "鹽埕區 溫度 2019-06-30T15:00:00+08:00 32 攝氏度\n",
      "鹽埕區 溫度 2019-06-30T18:00:00+08:00 31 攝氏度\n",
      "鹽埕區 溫度 2019-06-30T21:00:00+08:00 30 攝氏度\n",
      "鹽埕區 溫度 2019-07-01T00:00:00+08:00 29 攝氏度\n",
      "鹽埕區 溫度 2019-07-01T03:00:00+08:00 29 攝氏度\n",
      "鹽埕區 溫度 2019-07-01T06:00:00+08:00 28 攝氏度\n",
      "鹽埕區 溫度 2019-07-01T09:00:00+08:00 31 攝氏度\n"
     ]
    }
   ],
   "source": [
    "# 3. 請取出第一個地區所記錄的每一個時間點跟溫度\n",
    "times = dic['cwbopendata']['dataset']['locations']['location'][0]['weatherElement'][0]['time']\n",
    "for time in times:\n",
    "    print (dic['cwbopendata']['dataset']['locations']['location'][0]['locationName'], dic['cwbopendata']['dataset']['locations']['location'][0]['weatherElement'][0]['description'], time['dataTime'], time['elementValue']['value'], time['elementValue']['measures'])\n"
   ]
  },
  {
   "cell_type": "code",
   "execution_count": null,
   "metadata": {},
   "outputs": [],
   "source": []
  }
 ],
 "metadata": {
  "kernelspec": {
   "display_name": "Python 3",
   "language": "python",
   "name": "python3"
  },
  "language_info": {
   "codemirror_mode": {
    "name": "ipython",
    "version": 3
   },
   "file_extension": ".py",
   "mimetype": "text/x-python",
   "name": "python",
   "nbconvert_exporter": "python",
   "pygments_lexer": "ipython3",
   "version": "3.7.5"
  }
 },
 "nbformat": 4,
 "nbformat_minor": 2
}
