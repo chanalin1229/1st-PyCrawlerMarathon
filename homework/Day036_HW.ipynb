{
 "cells": [
  {
   "cell_type": "markdown",
   "metadata": {},
   "source": [
    "# 加速：非同步爬蟲\n",
    "\n",
    "* 了解非同步爬蟲加速原理與實作"
   ]
  },
  {
   "cell_type": "markdown",
   "metadata": {},
   "source": [
    "## 作業目標\n",
    "\n",
    "* 比較一下非同步爬蟲跟多線程爬蟲的差異是什麼？各自的優缺點為何？"
   ]
  },
  {
   "cell_type": "code",
   "execution_count": 1,
   "metadata": {
    "scrolled": true
   },
   "outputs": [
    {
     "data": {
      "text/plain": [
       "'\\n非同步爬蟲 :\\n    單一 CPU 在等待回應時, 將控制權交出進行下一個操作。為修正多執行緒的缺點, 程式設計複雜度較高。\\n多線程爬蟲 :\\n    利用多個 CPU 同時運行, 加速執行。執行緒中的程式執行是順序執行, 程式實作容易, 但程式之間共享的變數, 可能造成程式執行失敗, 或資料錯誤。\\n'"
      ]
     },
     "execution_count": 1,
     "metadata": {},
     "output_type": "execute_result"
    }
   ],
   "source": [
    "'''\n",
    "非同步爬蟲 :\n",
    "    單一 CPU 在等待回應時, 將控制權交出進行下一個操作。為修正多執行緒的缺點, 程式設計複雜度較高。\n",
    "多線程爬蟲 :\n",
    "    利用多個 CPU 同時運行, 加速執行。執行緒中的程式執行是順序執行, 程式實作容易, 但程式之間共享的變數, 可能造成程式執行失敗, 或資料錯誤。\n",
    "'''"
   ]
  }
 ],
 "metadata": {
  "colab": {
   "name": "homework.ipynb",
   "provenance": []
  },
  "kernelspec": {
   "display_name": "Python 3",
   "language": "python",
   "name": "python3"
  },
  "language_info": {
   "codemirror_mode": {
    "name": "ipython",
    "version": 3
   },
   "file_extension": ".py",
   "mimetype": "text/x-python",
   "name": "python",
   "nbconvert_exporter": "python",
   "pygments_lexer": "ipython3",
   "version": "3.7.5"
  }
 },
 "nbformat": 4,
 "nbformat_minor": 1
}
