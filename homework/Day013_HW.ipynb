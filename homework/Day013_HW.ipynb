{
 "cells": [
  {
   "cell_type": "markdown",
   "metadata": {},
   "source": [
    "# PTT 網路爬蟲實作練習\n",
    "\n",
    "\n",
    "* 能夠利用 Request + BeatifulSour 撰寫爬蟲，並存放到合適的資料結構\n"
   ]
  },
  {
   "cell_type": "markdown",
   "metadata": {},
   "source": [
    "## 作業目標\n",
    "\n",
    "根據範例 ，完成以下問題：\n",
    "\n",
    "* ① 印出最新文章的「作者」「標題」「時間」\n",
    "* ② 印出第一頁所有文章的「作者」「標題」「時間」\n"
   ]
  },
  {
   "cell_type": "markdown",
   "metadata": {},
   "source": [
    "### ① 印出最新文章的「作者」「標題」「時間」"
   ]
  },
  {
   "cell_type": "code",
   "execution_count": 1,
   "metadata": {},
   "outputs": [
    {
     "name": "stdout",
     "output_type": "stream",
     "text": [
      "1 =>  LinBaoYan (負酬者聯盟)  :  [新聞] 戴維斯腳踝扭傷 缺席湖人挑戰客場15連勝  :  Wed Dec 18 09:52:06 2019\n",
      "1 =>  TheBatman (蝙蝠俠)  :  [情報] LeBron James 生涯罰球數史上第6  :  Wed Dec 18 10:49:17 2019\n",
      "1 =>  Rambo (香帥)  :  [Live] 太陽 @ 快艇  :  Wed Dec 18 11:00:01 2019\n",
      "1 =>  s27052705 (小飽)  :  [花邊] McMillan ：能夠擊敗聯盟戰績第一的球隊  :  Wed Dec 18 11:16:32 2019\n",
      "1 =>  bou4458 (銀河中的一顆星)  :  [討論] 紫金出產品質保證　Ingram爆發明星身手  :  Wed Dec 18 11:29:17 2019\n",
      "1 =>  melman87 (長頸男)  :  [花邊] Ball 送每位隊友訂製的Xbox作為聖誕禮物  :  Wed Dec 18 12:45:29 2019\n",
      "1 =>  kuluma (墨駒)  :  [情報] 太陽狀元Ayton:聯盟的審判日即將到來  :  Wed Dec 18 12:49:06 2019\n",
      "1 =>  VeryGoodBoy (很棒的男孩)  :  [情報]難求一勝！鵜鶘遭遇13連敗，繼續刷新隊史  :  Wed Dec 18 13:33:30 2019\n",
      "1 =>  Wojnarowski (@wojespn)  :  [花邊] 賽後湖人隨隊記者透露LBJ患上了感冒  :  Wed Dec 18 13:43:17 2019\n",
      "1 =>  a78998042a (Benjimin)  :  [情報] NBA Standings (Dec. 18, 2019)  :  Wed Dec 18 13:51:03 2019\n",
      "1 =>  Vedan (味丹)  :  [公告] 樂透取消及未來不再開啟樂透  :  Mon Jun 24 15:08:02 2019\n",
      "1 =>  qazwsx879345 (Rajon Rondo)  :  [公告] 版主上任相關事項  :  Fri Oct 25 10:44:03 2019\n",
      "1 =>  JerroLi (銀色小刀)  :  [情報] SEASON Schedule 賽程 December 19–20  :  Fri Nov 29 00:46:01 2019\n",
      "1 =>  dragon803 (好想去露營啊~)  :  [討論] 是否禁止記者鄭廷瑋文章投票開始  :  Mon Dec 16 18:28:57 2019\n"
     ]
    }
   ],
   "source": [
    "import requests\n",
    "from bs4 import BeautifulSoup\n",
    "\n",
    "# 印出最新文章的「作者」「標題」「時間」\n",
    "url = 'https://www.ptt.cc/bbs/NBA/index.html'\n",
    "r = requests.get(url)\n",
    "soup = BeautifulSoup(r.text, \"html5lib\")\n",
    "\n",
    "for d in soup.find_all(class_=\"title\"):\n",
    "    try:\n",
    "        # find 返回的是搜索值的第一個值。\n",
    "        r = BeautifulSoup(requests.get('https://www.ptt.cc'+d.find('a')['href']).text, \"html5lib\")\n",
    "        #print('作者: ' + r.find(class_='article-meta-value').text)\n",
    "        record = r.find_all(class_='article-meta-value')\n",
    "        # record[0] :  dragon803 (好想去露營啊~)\n",
    "        # record[1] :  NBA\n",
    "        # record[2] :  [討論] 是否禁止記者鄭廷瑋文章投票開始\n",
    "        # record[3] :  Mon Dec 16 18:28:57 2019\n",
    "        print(\"1 => \", record[0].text, \" : \", record[2].text, \" : \", record[3].text)\n",
    "    except:\n",
    "        continue"
   ]
  },
  {
   "cell_type": "markdown",
   "metadata": {},
   "source": [
    "### ② 印出第一頁所有文章的「作者」「標題」「時間」"
   ]
  },
  {
   "cell_type": "code",
   "execution_count": 2,
   "metadata": {},
   "outputs": [
    {
     "name": "stdout",
     "output_type": "stream",
     "text": [
      "2 =>  Intelnet ()  :  [新聞] 金廣鉉選紅雀原因 左投先發1年只投2場  :  Wed Dec 18 13:01:38 2019\n",
      "2 =>  daubiep (布魯馬)  :  [新聞] 中日龍3將冬盟結束返日 嗑鰻魚飯大呼日本  :  Wed Dec 18 13:09:55 2019\n",
      "2 =>  conankudod (conankudod)  :  Re: [新聞] 樂天成軍「想改的沒辦法 不想變的卻換了」  :  Wed Dec 18 13:14:14 2019\n",
      "2 =>  kindaichi21 (金田一二一)  :  [閒聊] 筒香: 我沒在重訓的  :  Wed Dec 18 13:27:59 2019\n",
      "2 =>  mongi (大體老屍)  :  [新聞] 樂天應援不變 轉播仍是Eleven Sports  :  Wed Dec 18 13:36:55 2019\n",
      "2 =>  sleepybaby (睏寶)  :  [閒聊] 樂天把Lamigirls全留是不是最正確的決定?  :  Wed Dec 18 13:56:08 2019\n",
      "2 =>  mashoko (寶妹)  :  [閒聊] 金廣炫為何比山口俊貴  :  Wed Dec 18 14:06:12 2019\n",
      "2 =>  u9300017 (載雨拾乘三)  :  [新聞] 杉谷拳士狂問學員「我帥嗎」　驚訝台灣  :  Wed Dec 18 14:10:22 2019\n",
      "2 =>  johnnyckvs (體育賽事喜好者@912139)  :  [整理] 2019棒球賽事轉播節目表  :  Tue Jan  1 00:07:35 2019\n",
      "2 =>  tmlc (樂透精算師)  :  [公告] 2019轉播心得徵文  :  Fri Dec 13 14:53:32 2019\n",
      "2 =>  tmlc  :  [公告] Baseball 板 開始舉辦樂透!  :  Wed Dec 18 11:21:09 2019\n"
     ]
    }
   ],
   "source": [
    "# 印出第一頁所有文章的「作者」「標題」「時間」\n",
    "url = 'https://www.ptt.cc/bbs/Baseball/index.html'\n",
    "r = requests.get(url)\n",
    "soup = BeautifulSoup(r.text, \"html5lib\")\n",
    "\n",
    "for d in soup.find_all(class_=\"title\"):\n",
    "    # print(d.text.replace('\\t', '').replace('\\n', ''))\n",
    "    try:\n",
    "        # find 返回的是搜索值的第一個值。\n",
    "        r = BeautifulSoup(requests.get('https://www.ptt.cc'+d.find('a')['href']).text, \"html5lib\")\n",
    "        record = r.find_all(class_='article-meta-value')\n",
    "        print(\"2 => \", record[0].text, \" : \", record[2].text, \" : \", record[3].text)\n",
    "    except:\n",
    "        continue"
   ]
  },
  {
   "cell_type": "markdown",
   "metadata": {},
   "source": [
    "### ③ 試著爬爬看其他版的文章"
   ]
  },
  {
   "cell_type": "code",
   "execution_count": 3,
   "metadata": {},
   "outputs": [
    {
     "name": "stdout",
     "output_type": "stream",
     "text": [
      "3 =>  CoNsTaR ((const *))  :  Re: [討論] 台灣的問題在哪?  :  Wed Dec 18 08:19:06 2019\n",
      "3 =>  zzahoward (Cheshire Cat)  :  Re: [討論] 台灣的問題在哪?  :  Wed Dec 18 08:56:30 2019\n",
      "3 =>  yamakazi (大安吳彥祖)  :  Re: [討論] 台灣的問題在哪?  :  Wed Dec 18 09:01:39 2019\n",
      "3 =>  canson (戡神)  :  Re: [討論] 台灣的問題在哪?  :  Wed Dec 18 09:05:25 2019\n",
      "3 =>  negohsu (專打不專業環團)  :  [心得] 畢業雜談(六)? 沒有標題  :  Wed Dec 18 10:09:32 2019\n",
      "3 =>  wwwson1256 (太陽花青年)  :  [新聞] 週刊爆富士康盜賣蘋果iPhone零件 庫克下  :  Wed Dec 18 10:48:47 2019\n",
      "3 =>  appledavid (新三寶:香蕉 鹿茸 太陽餅)  :  Re: [討論] 台灣的問題在哪?  :  Wed Dec 18 11:12:39 2019\n",
      "3 =>  awss1971 (令狐沖)  :  Re: [心得] 畢業雜談(六) 沒有標題  :  Wed Dec 18 11:24:42 2019\n",
      "3 =>  blackacre (Black/White/Green acre)  :  Re: [討論] 台灣的問題在哪?  :  Wed Dec 18 11:35:31 2019\n",
      "3 =>  s90055s90055 (DING)  :  心得～（晶豪科 凌陽 立錡 聯發科）  :  Wed Dec 18 12:27:33 2019\n",
      "3 =>  hvariables (Speculative Male)  :  [新聞] 《國際現場》三星結合政府資金 對抗台積電  :  Wed Dec 18 12:27:48 2019\n",
      "3 =>  KinGsmann (One Punch)  :  [請益] 代po詢問旺宏部門  :  Wed Dec 18 12:44:03 2019\n",
      "3 =>  a000000000 (中野零nine)  :  Re: [討論] 台灣的問題在哪?  :  Wed Dec 18 13:00:37 2019\n",
      "3 =>  orz44444 (陰人不應該向陽人裝熟~~)  :  [新聞] 75歲還在創業 施振榮自嘲自己是最老的創業家  :  Wed Dec 18 13:21:11 2019\n",
      "3 =>  Darren2012 (達倫)  :  [討論] 機器人的書籍，09年出版的夠用嗎?  :  Wed Dec 18 13:40:21 2019\n",
      "3 =>  dilson (中肯的話通常不好聽懂嗎)  :  Re: [新聞] 75歲還在創業 施振榮自嘲自己是最老的創業家  :  Wed Dec 18 13:53:31 2019\n",
      "3 =>  mmkntust (Blue Bleaching)  :  [公告] Tech_Job板板規 2015.01.16  :  Sat Mar  1 11:55:32 2014\n",
      "3 =>  mmkntust (老王廚房)  :  [公告] 置底 檢舉/推薦 文章  :  Sun Sep  7 11:54:29 2014\n",
      "3 =>  mmkntust (老王廚房)  :  [公告] 如何消除退文 轉自Ask板  :  Mon Mar  2 11:59:48 2015\n",
      "3 =>  pzs ()  :  [情報] 2019年聯合勞動法律義務諮詢服務  :  Thu Feb 14 14:06:29 2019\n",
      "3 =>  b89207040 (黃卓盛)  :  [心得] 非擔任主管職務之全時員工薪資  :  Fri Jul  5 00:40:35 2019\n"
     ]
    }
   ],
   "source": [
    "# 試著爬爬看其他版的文章\n",
    "url = 'https://www.ptt.cc/bbs/Tech_Job/index.html'\n",
    "r = requests.get(url)\n",
    "soup = BeautifulSoup(r.text, \"html5lib\")\n",
    "\n",
    "for d in soup.find_all(class_=\"title\"):\n",
    "    try:\n",
    "        # find 返回的是搜索值的第一個值。\n",
    "        r = BeautifulSoup(requests.get('https://www.ptt.cc'+d.find('a')['href']).text, \"html5lib\")\n",
    "        record = r.find_all(class_='article-meta-value')\n",
    "        print(\"3 => \", record[0].text, \" : \", record[2].text, \" : \", record[3].text)\n",
    "    except:\n",
    "        continue"
   ]
  },
  {
   "cell_type": "code",
   "execution_count": null,
   "metadata": {},
   "outputs": [],
   "source": []
  }
 ],
 "metadata": {
  "kernelspec": {
   "display_name": "Python 3",
   "language": "python",
   "name": "python3"
  },
  "language_info": {
   "codemirror_mode": {
    "name": "ipython",
    "version": 3
   },
   "file_extension": ".py",
   "mimetype": "text/x-python",
   "name": "python",
   "nbconvert_exporter": "python",
   "pygments_lexer": "ipython3",
   "version": "3.7.5"
  }
 },
 "nbformat": 4,
 "nbformat_minor": 2
}
